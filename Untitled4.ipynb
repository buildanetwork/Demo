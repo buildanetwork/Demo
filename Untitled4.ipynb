{
 "cells": [
  {
   "cell_type": "code",
   "execution_count": 2,
   "metadata": {},
   "outputs": [],
   "source": [
    "from __future__ import absolute_import, division, print_function\n",
    "import tensorflow as tf\n",
    "from tensorflow import keras\n",
    "import numpy as np"
   ]
  },
  {
   "cell_type": "code",
   "execution_count": 3,
   "metadata": {},
   "outputs": [],
   "source": [
    "imdb = keras.datasets.imdb\n",
    "\n",
    "(train_data, train_labels), (test_data, test_labels) = imdb.load_data(num_words=10000)"
   ]
  },
  {
   "cell_type": "code",
   "execution_count": 4,
   "metadata": {},
   "outputs": [
    {
     "name": "stdout",
     "output_type": "stream",
     "text": [
      "Training entries: 25000, labels: 25000\n"
     ]
    }
   ],
   "source": [
    "print(\"Training entries: {}, labels: {}\".format(len(train_data), len(train_labels)))"
   ]
  },
  {
   "cell_type": "code",
   "execution_count": 5,
   "metadata": {},
   "outputs": [],
   "source": [
    "word_index = imdb.get_word_index()\n",
    "word_index = {k:(v+3) for k,v in word_index.items()} \n",
    "word_index[\"<PAD>\"] = 0\n",
    "word_index[\"<START>\"] = 1\n",
    "word_index[\"<UNK>\"] = 2  # unknown\n",
    "word_index[\"<UNUSED>\"] = 3"
   ]
  },
  {
   "cell_type": "code",
   "execution_count": 6,
   "metadata": {},
   "outputs": [],
   "source": [
    "train_data = keras.preprocessing.sequence.pad_sequences(train_data,\n",
    "                                                        value=word_index[\"<PAD>\"],\n",
    "                                                        padding='post',\n",
    "                                                        maxlen=256)\n",
    "\n",
    "test_data = keras.preprocessing.sequence.pad_sequences(test_data,\n",
    "                                                       value=word_index[\"<PAD>\"],\n",
    "                                                       padding='post',\n",
    "                                                       maxlen=256)"
   ]
  },
  {
   "cell_type": "code",
   "execution_count": 7,
   "metadata": {},
   "outputs": [],
   "source": [
    "vocab_size = 10000"
   ]
  },
  {
   "cell_type": "code",
   "execution_count": 11,
   "metadata": {},
   "outputs": [
    {
     "name": "stdout",
     "output_type": "stream",
     "text": [
      "_________________________________________________________________\n",
      "Layer (type)                 Output Shape              Param #   \n",
      "=================================================================\n",
      "embedding_1 (Embedding)      (None, 256, 32)           320000    \n",
      "_________________________________________________________________\n",
      "reshape_1 (Reshape)          (None, 256, 32, 1)        0         \n",
      "_________________________________________________________________\n",
      "conv2d_3 (Conv2D)            (None, 51, 6, 50)         1050      \n",
      "_________________________________________________________________\n",
      "dropout_3 (Dropout)          (None, 51, 6, 50)         0         \n",
      "_________________________________________________________________\n",
      "max_pooling2d_3 (MaxPooling2 (None, 26, 3, 50)         0         \n",
      "_________________________________________________________________\n",
      "conv2d_4 (Conv2D)            (None, 6, 1, 50)          5050      \n",
      "_________________________________________________________________\n",
      "dropout_4 (Dropout)          (None, 6, 1, 50)          0         \n",
      "_________________________________________________________________\n",
      "max_pooling2d_4 (MaxPooling2 (None, 3, 1, 50)          0         \n",
      "_________________________________________________________________\n",
      "conv2d_5 (Conv2D)            (None, 1, 1, 50)          2550      \n",
      "_________________________________________________________________\n",
      "dropout_5 (Dropout)          (None, 1, 1, 50)          0         \n",
      "_________________________________________________________________\n",
      "max_pooling2d_5 (MaxPooling2 (None, 1, 1, 50)          0         \n",
      "_________________________________________________________________\n",
      "flatten_1 (Flatten)          (None, 50)                0         \n",
      "_________________________________________________________________\n",
      "dense_2 (Dense)              (None, 50)                2550      \n",
      "_________________________________________________________________\n",
      "dense_3 (Dense)              (None, 1)                 51        \n",
      "=================================================================\n",
      "Total params: 331,251\n",
      "Trainable params: 331,251\n",
      "Non-trainable params: 0\n",
      "_________________________________________________________________\n"
     ]
    }
   ],
   "source": [
    "model = keras.Sequential()\n",
    "model.add(keras.layers.Embedding(vocab_size,32,input_length=256))\n",
    "model.add(keras.layers.Reshape((256,32,1)))\n",
    "model.add(keras.layers.Conv2D(filters=50,kernel_size=(4,5),strides=5,activation='relu'))\n",
    "model.add(keras.layers.Dropout(rate=0.5))\n",
    "model.add(tf.keras.layers.MaxPooling2D(pool_size=(1,1),strides=2))\n",
    "model.add(keras.layers.Conv2D(filters=50,kernel_size=(1,2),strides=5,activation='relu'))\n",
    "model.add(keras.layers.Dropout(rate=0.5))\n",
    "model.add(tf.keras.layers.MaxPooling2D(pool_size=(1,1),strides=2))\n",
    "model.add(keras.layers.Conv2D(filters=50,kernel_size=(1,1),strides=5,activation='relu'))\n",
    "model.add(keras.layers.Dropout(rate=0.5))\n",
    "model.add(tf.keras.layers.MaxPooling2D(pool_size=(1,1),strides=2))\n",
    "model.add(keras.layers.Flatten())\n",
    "model.add(keras.layers.Dense(50))\n",
    "model.add(keras.layers.Dense(1, activation=tf.nn.sigmoid))\n",
    "model.summary()"
   ]
  },
  {
   "cell_type": "code",
   "execution_count": 10,
   "metadata": {},
   "outputs": [],
   "source": [
    "model.compile(optimizer = tf.train.GradientDescentOptimizer(0.001),loss='binary_crossentropy',metrics=['acc'])"
   ]
  },
  {
   "cell_type": "code",
   "execution_count": 11,
   "metadata": {},
   "outputs": [],
   "source": [
    "validdata = train_data[:10000]\n",
    "traindata = train_data[10000:]\n",
    "\n",
    "validlabels = train_labels[:10000]\n",
    "trainlabels = train_labels[10000:]"
   ]
  },
  {
   "cell_type": "code",
   "execution_count": 12,
   "metadata": {
    "scrolled": true
   },
   "outputs": [
    {
     "name": "stdout",
     "output_type": "stream",
     "text": [
      "Train on 15000 samples, validate on 10000 samples\n",
      "WARNING:tensorflow:From C:\\Users\\anoth\\Miniconda3\\envs\\tensorflow\\lib\\site-packages\\tensorflow\\python\\ops\\math_ops.py:3066: to_int32 (from tensorflow.python.ops.math_ops) is deprecated and will be removed in a future version.\n",
      "Instructions for updating:\n",
      "Use tf.cast instead.\n",
      "Epoch 1/10\n",
      "15000/15000 [==============================] - 66s 4ms/sample - loss: 0.6931 - acc: 0.5001 - val_loss: 0.6931 - val_acc: 0.4990\n",
      "Epoch 2/10\n",
      "15000/15000 [==============================] - 74s 5ms/sample - loss: 0.6931 - acc: 0.5046 - val_loss: 0.6932 - val_acc: 0.4965\n",
      "Epoch 3/10\n",
      "15000/15000 [==============================] - 73s 5ms/sample - loss: 0.6931 - acc: 0.5064 - val_loss: 0.6932 - val_acc: 0.4988\n",
      "Epoch 4/10\n",
      "15000/15000 [==============================] - 73s 5ms/sample - loss: 0.6931 - acc: 0.5043 - val_loss: 0.6932 - val_acc: 0.4987\n",
      "Epoch 5/10\n",
      "15000/15000 [==============================] - 73s 5ms/sample - loss: 0.6931 - acc: 0.5081 - val_loss: 0.6932 - val_acc: 0.4959\n",
      "Epoch 6/10\n",
      "15000/15000 [==============================] - 74s 5ms/sample - loss: 0.6931 - acc: 0.5052 - val_loss: 0.6932 - val_acc: 0.4985\n",
      "Epoch 7/10\n",
      "15000/15000 [==============================] - 74s 5ms/sample - loss: 0.6930 - acc: 0.5056 - val_loss: 0.6932 - val_acc: 0.4967\n",
      "Epoch 8/10\n",
      "15000/15000 [==============================] - 74s 5ms/sample - loss: 0.6931 - acc: 0.5059 - val_loss: 0.6932 - val_acc: 0.4972\n",
      "Epoch 9/10\n",
      "15000/15000 [==============================] - 77s 5ms/sample - loss: 0.6931 - acc: 0.5085 - val_loss: 0.6932 - val_acc: 0.4968\n",
      "Epoch 10/10\n",
      "15000/15000 [==============================] - 75s 5ms/sample - loss: 0.6931 - acc: 0.5057 - val_loss: 0.6932 - val_acc: 0.4961\n"
     ]
    }
   ],
   "source": [
    "history = model.fit(traindata,\n",
    "                    trainlabels,\n",
    "                    epochs=10,\n",
    "                    batch_size=100,\n",
    "                    validation_data=(validdata, validlabels),\n",
    "                    verbose=1)"
   ]
  },
  {
   "cell_type": "code",
   "execution_count": 13,
   "metadata": {},
   "outputs": [
    {
     "name": "stdout",
     "output_type": "stream",
     "text": [
      "25000/25000 [==============================] - 45s 2ms/sample - loss: 0.6931 - acc: 0.49911s - los\n",
      "[0.6931476246261596, 0.49912]\n"
     ]
    }
   ],
   "source": [
    "results = model.evaluate(test_data, test_labels)\n",
    "print(results)"
   ]
  },
  {
   "cell_type": "code",
   "execution_count": 17,
   "metadata": {},
   "outputs": [
    {
     "name": "stdout",
     "output_type": "stream",
     "text": [
      "_________________________________________________________________\n",
      "Layer (type)                 Output Shape              Param #   \n",
      "=================================================================\n",
      "embedding_4 (Embedding)      (None, 256, 16)           160000    \n",
      "_________________________________________________________________\n",
      "conv1d_6 (Conv1D)            (None, 51, 50)            3250      \n",
      "_________________________________________________________________\n",
      "dropout_11 (Dropout)         (None, 51, 50)            0         \n",
      "_________________________________________________________________\n",
      "max_pooling1d_5 (MaxPooling1 (None, 25, 50)            0         \n",
      "_________________________________________________________________\n",
      "conv1d_7 (Conv1D)            (None, 5, 100)            25100     \n",
      "_________________________________________________________________\n",
      "dropout_12 (Dropout)         (None, 5, 100)            0         \n",
      "_________________________________________________________________\n",
      "max_pooling1d_6 (MaxPooling1 (None, 2, 100)            0         \n",
      "_________________________________________________________________\n",
      "conv1d_8 (Conv1D)            (None, 1, 200)            40200     \n",
      "_________________________________________________________________\n",
      "dropout_13 (Dropout)         (None, 1, 200)            0         \n",
      "_________________________________________________________________\n",
      "max_pooling1d_7 (MaxPooling1 (None, 1, 200)            0         \n",
      "_________________________________________________________________\n",
      "flatten_2 (Flatten)          (None, 200)               0         \n",
      "_________________________________________________________________\n",
      "dense_4 (Dense)              (None, 200)               40200     \n",
      "_________________________________________________________________\n",
      "dense_5 (Dense)              (None, 1)                 201       \n",
      "=================================================================\n",
      "Total params: 268,951\n",
      "Trainable params: 268,951\n",
      "Non-trainable params: 0\n",
      "_________________________________________________________________\n"
     ]
    }
   ],
   "source": [
    "model = keras.Sequential()\n",
    "model.add(keras.layers.Embedding(vocab_size,16,input_length=256))\n",
    "model.add(keras.layers.Conv1D(filters=50,kernel_size=4,strides=5,activation='relu'))\n",
    "model.add(keras.layers.Dropout(rate=0.5))\n",
    "model.add(tf.keras.layers.MaxPooling1D(pool_size=2,strides=2))\n",
    "model.add(keras.layers.Conv1D(filters=100,kernel_size=5,strides=5,activation='relu'))\n",
    "model.add(keras.layers.Dropout(rate=0.5))\n",
    "model.add(tf.keras.layers.MaxPooling1D(pool_size=2,strides=2))\n",
    "model.add(keras.layers.Conv1D(filters=200,kernel_size=(2),strides=5,activation='relu'))\n",
    "model.add(keras.layers.Dropout(rate=0.5))\n",
    "model.add(tf.keras.layers.MaxPooling1D(pool_size=(1),strides=2))\n",
    "model.add(keras.layers.Flatten())\n",
    "model.add(keras.layers.Dense(200))\n",
    "model.add(keras.layers.Dense(1, activation=tf.nn.sigmoid))\n",
    "model.summary()"
   ]
  },
  {
   "cell_type": "code",
   "execution_count": 9,
   "metadata": {},
   "outputs": [
    {
     "name": "stdout",
     "output_type": "stream",
     "text": [
      "_________________________________________________________________\n",
      "Layer (type)                 Output Shape              Param #   \n",
      "=================================================================\n",
      "embedding_1 (Embedding)      (None, 256, 32)           320000    \n",
      "_________________________________________________________________\n",
      "reshape_1 (Reshape)          (None, 256, 32, 1)        0         \n",
      "_________________________________________________________________\n",
      "conv2d_1 (Conv2D)            (None, 51, 6, 50)         1050      \n",
      "_________________________________________________________________\n",
      "dropout_1 (Dropout)          (None, 51, 6, 50)         0         \n",
      "_________________________________________________________________\n",
      "max_pooling2d_1 (MaxPooling2 (None, 26, 3, 50)         0         \n",
      "_________________________________________________________________\n",
      "flatten_1 (Flatten)          (None, 3900)              0         \n",
      "_________________________________________________________________\n",
      "dense_2 (Dense)              (None, 3900)              15213900  \n",
      "_________________________________________________________________\n",
      "dense_3 (Dense)              (None, 1)                 3901      \n",
      "=================================================================\n",
      "Total params: 15,538,851\n",
      "Trainable params: 15,538,851\n",
      "Non-trainable params: 0\n",
      "_________________________________________________________________\n"
     ]
    }
   ],
   "source": [
    "model = keras.Sequential()\n",
    "model.add(keras.layers.Embedding(vocab_size,32,input_length=256))\n",
    "model.add(keras.layers.Reshape((256,32,1)))\n",
    "model.add(keras.layers.Conv2D(filters=50,kernel_size=(4,5),strides=5,activation='relu'))\n",
    "model.add(keras.layers.Dropout(rate=0.5))\n",
    "model.add(tf.keras.layers.MaxPooling2D(pool_size=(1,1),strides=2))\n",
    "model.add(keras.layers.Flatten())\n",
    "model.add(keras.layers.Dense(3900))\n",
    "model.add(keras.layers.Dense(1, activation=tf.nn.sigmoid))\n",
    "model.summary()"
   ]
  },
  {
   "cell_type": "code",
   "execution_count": null,
   "metadata": {},
   "outputs": [],
   "source": []
  }
 ],
 "metadata": {
  "kernelspec": {
   "display_name": "Python 3.6 (tensorflow)",
   "language": "python",
   "name": "tensorflow"
  },
  "language_info": {
   "codemirror_mode": {
    "name": "ipython",
    "version": 3
   },
   "file_extension": ".py",
   "mimetype": "text/x-python",
   "name": "python",
   "nbconvert_exporter": "python",
   "pygments_lexer": "ipython3",
   "version": "3.6.8"
  }
 },
 "nbformat": 4,
 "nbformat_minor": 2
}
