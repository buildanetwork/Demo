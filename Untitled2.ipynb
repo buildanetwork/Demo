{
 "cells": [
  {
   "cell_type": "code",
   "execution_count": 2,
   "metadata": {},
   "outputs": [
    {
     "name": "stderr",
     "output_type": "stream",
     "text": [
      "Using TensorFlow backend.\n",
      "C:\\Users\\anoth\\Miniconda3\\envs\\tensorflow\\lib\\site-packages\\gensim\\utils.py:1197: UserWarning: detected Windows; aliasing chunkize to chunkize_serial\n",
      "  warnings.warn(\"detected Windows; aliasing chunkize to chunkize_serial\")\n"
     ]
    }
   ],
   "source": [
    "from __future__ import absolute_import, division, print_function\n",
    "import tensorflow as tf\n",
    "from tensorflow import keras\n",
    "from keras.preprocessing.text import text_to_word_sequence,one_hot,Tokenizer\n",
    "from keras.preprocessing import sequence\n",
    "import numpy as np\n",
    "import gensim\n",
    "from gensim.models import Word2Vec\n",
    "import pandas as pd\n",
    "import multiprocessing\n",
    "import csv"
   ]
  },
  {
   "cell_type": "code",
   "execution_count": 3,
   "metadata": {},
   "outputs": [],
   "source": [
    "# Load Google's pre-trained Word2Vec model.\n",
    "model = gensim.models.KeyedVectors.load_word2vec_format('./GoogleNews-vectors-negative300.bin', binary=True,limit=450000)"
   ]
  },
  {
   "cell_type": "code",
   "execution_count": 4,
   "metadata": {},
   "outputs": [],
   "source": [
    "data=[]\n",
    "label=[]\n",
    "with open('train.tsv') as tsvfile:\n",
    "  reader = csv.reader(tsvfile, delimiter='\\t')\n",
    "  for row in reader:\n",
    "        r=[]\n",
    "        if len(row[2].split())<=25 and row[3]!='2':\n",
    "                for i in (row[2].split()):\n",
    "                    try:\n",
    "                        r.append(model[i])\n",
    "                    except KeyError:\n",
    "                        r.append(np.zeros(300))\n",
    "                k=len(r)\n",
    "                if k<25:\n",
    "                        for i in range(0,25-k):\n",
    "                            r.append(np.zeros(300))\n",
    "                if (row[3]=='0' or row[3]=='1'):\n",
    "                        label.append(0)\n",
    "                elif (row[3]=='3' or row[3]=='4'):\n",
    "                        label.append(1)\n",
    "                data.append(r)\n",
    "del model\n",
    "del data[0]                \n",
    "traindata=np.array(data[:10000])\n",
    "testdata=np.array(data[10000:20000])\n",
    "del data\n",
    "trainlabel=np.array(label[:10000])\n",
    "testlabel=np.array(label[10000:20000])\n",
    "del label"
   ]
  },
  {
   "cell_type": "code",
   "execution_count": 14,
   "metadata": {},
   "outputs": [],
   "source": [
    "def cnnmodel(features, labels, mode):    \n",
    "    input_layer = tf.reshape(features[\"x\"], [-1, 25,300,1])\n",
    "    conv1 = tf.layers.conv2d(inputs=input_layer,filters=50,kernel_size=[4, 5],strides=5,activation=tf.nn.relu)\n",
    "    drop1= tf.layers.dropout(inputs=conv1,rate=0.5)\n",
    "    pool1 = tf.layers.max_pooling2d(inputs=drop1, pool_size=[2, 2], strides=2)\n",
    "    conv2 = tf.layers.conv2d(inputs=pool1,filters=100,kernel_size=[5, 6],padding=\"same\",activation=tf.nn.relu)\n",
    "    drop2= tf.layers.dropout(inputs=conv2,rate=0.5)\n",
    "    pool2 = tf.layers.max_pooling2d(inputs=drop2, pool_size=[2, 2], strides=2)\n",
    "    conv3 = tf.layers.conv2d(inputs=pool2,filters=200,kernel_size=[6, 7],padding=\"same\",activation=tf.nn.relu)\n",
    "    drop3= tf.layers.dropout(inputs=conv3,rate=0.5)\n",
    "    pool3 = tf.layers.max_pooling2d(inputs=drop3, pool_size=[1,1], strides=2)\n",
    "    pool3_flat= tf.reshape(pool3,[-1,1*8*200])\n",
    "    logits = tf.layers.dense(inputs=pool3_flat, units=2, activation=tf.nn.softmax)\n",
    "    \n",
    "    predictions = {\n",
    "      \"classes\": tf.argmax(input=logits, axis=1),\n",
    "      \"probabilities\": tf.nn.softmax(logits, name=\"softmax_tensor\")\n",
    "      }\n",
    "    if mode == tf.estimator.ModeKeys.PREDICT:\n",
    "        return tf.estimator.EstimatorSpec(mode=mode, predictions=predictions)\n",
    "    \n",
    "    loss = tf.losses.sparse_softmax_cross_entropy(labels=labels, logits=logits)\n",
    "    \n",
    "    if mode == tf.estimator.ModeKeys.TRAIN:\n",
    "        optimizer = tf.train.GradientDescentOptimizer(learning_rate=0.001)\n",
    "        train_op = optimizer.minimize(\n",
    "            loss=loss,\n",
    "            global_step=tf.train.get_global_step())\n",
    "        return tf.estimator.EstimatorSpec(mode=mode, loss=loss, train_op=train_op)\n",
    "    \n",
    "    eval_metric_ops = {\n",
    "          \"accuracy\": tf.metrics.accuracy(\n",
    "              labels=labels, predictions=predictions[\"classes\"])\n",
    "      }\n",
    "    return tf.estimator.EstimatorSpec( mode=mode, loss=loss, eval_metric_ops=eval_metric_ops)"
   ]
  },
  {
   "cell_type": "code",
   "execution_count": 15,
   "metadata": {
    "scrolled": false
   },
   "outputs": [
    {
     "name": "stdout",
     "output_type": "stream",
     "text": [
      "INFO:tensorflow:Using default config.\n",
      "INFO:tensorflow:Using config: {'_model_dir': '/tmp/sentimentanalysis', '_tf_random_seed': None, '_save_summary_steps': 100, '_save_checkpoints_steps': None, '_save_checkpoints_secs': 600, '_session_config': allow_soft_placement: true\n",
      "graph_options {\n",
      "  rewrite_options {\n",
      "    meta_optimizer_iterations: ONE\n",
      "  }\n",
      "}\n",
      ", '_keep_checkpoint_max': 5, '_keep_checkpoint_every_n_hours': 10000, '_log_step_count_steps': 100, '_train_distribute': None, '_device_fn': None, '_protocol': None, '_eval_distribute': None, '_experimental_distribute': None, '_service': None, '_cluster_spec': <tensorflow.python.training.server_lib.ClusterSpec object at 0x000001BE38830550>, '_task_type': 'worker', '_task_id': 0, '_global_id_in_cluster': 0, '_master': '', '_evaluation_master': '', '_is_chief': True, '_num_ps_replicas': 0, '_num_worker_replicas': 1}\n"
     ]
    }
   ],
   "source": [
    "analyzer = tf.estimator.Estimator(model_fn=cnnmodel, model_dir=\"/tmp/sentimentanalysis\")\n",
    "tensors_to_log = {\"probabilities\": \"softmax_tensor\"}\n",
    "logging_hook = tf.train.LoggingTensorHook(tensors=tensors_to_log, every_n_iter=1)"
   ]
  },
  {
   "cell_type": "code",
   "execution_count": 17,
   "metadata": {
    "scrolled": false
   },
   "outputs": [
    {
     "ename": "TypeError",
     "evalue": "train() got an unexpected keyword argument 'verbose'",
     "output_type": "error",
     "traceback": [
      "\u001b[1;31m---------------------------------------------------------------------------\u001b[0m",
      "\u001b[1;31mTypeError\u001b[0m                                 Traceback (most recent call last)",
      "\u001b[1;32m<ipython-input-17-830e3c3dae64>\u001b[0m in \u001b[0;36m<module>\u001b[1;34m\u001b[0m\n\u001b[0;32m      8\u001b[0m     \u001b[0minput_fn\u001b[0m\u001b[1;33m=\u001b[0m\u001b[0mtrain_input_fn\u001b[0m\u001b[1;33m,\u001b[0m\u001b[1;33m\u001b[0m\u001b[1;33m\u001b[0m\u001b[0m\n\u001b[0;32m      9\u001b[0m     \u001b[0msteps\u001b[0m\u001b[1;33m=\u001b[0m\u001b[1;36m1\u001b[0m\u001b[1;33m,\u001b[0m\u001b[1;33m\u001b[0m\u001b[1;33m\u001b[0m\u001b[0m\n\u001b[1;32m---> 10\u001b[1;33m     \u001b[0mverbose\u001b[0m\u001b[1;33m=\u001b[0m\u001b[1;36m1\u001b[0m\u001b[1;33m\u001b[0m\u001b[1;33m\u001b[0m\u001b[0m\n\u001b[0m\u001b[0;32m     11\u001b[0m )\n\u001b[0;32m     12\u001b[0m \u001b[1;31m#RUN THIS BLOCK!!!!!\u001b[0m\u001b[1;33m\u001b[0m\u001b[1;33m\u001b[0m\u001b[1;33m\u001b[0m\u001b[0m\n",
      "\u001b[1;31mTypeError\u001b[0m: train() got an unexpected keyword argument 'verbose'"
     ]
    }
   ],
   "source": [
    "train_input_fn = tf.estimator.inputs.numpy_input_fn(\n",
    "    x={\"x\": traindata},\n",
    "    y=trainlabel,\n",
    "    batch_size=10000,\n",
    "    num_epochs=None,\n",
    "    shuffle=True)\n",
    "analyzer.train(\n",
    "    input_fn=train_input_fn,\n",
    "    steps=1,\n",
    ")\n",
    "#RUN THIS BLOCK!!!!!"
   ]
  },
  {
   "cell_type": "code",
   "execution_count": 10,
   "metadata": {},
   "outputs": [
    {
     "name": "stdout",
     "output_type": "stream",
     "text": [
      "INFO:tensorflow:Calling model_fn.\n",
      "INFO:tensorflow:Done calling model_fn.\n",
      "INFO:tensorflow:Starting evaluation at 2019-04-29T07:46:10Z\n",
      "INFO:tensorflow:Graph was finalized.\n",
      "INFO:tensorflow:Restoring parameters from /tmp/sentimentanalysis\\model.ckpt-475\n",
      "INFO:tensorflow:Running local_init_op.\n",
      "INFO:tensorflow:Done running local_init_op.\n",
      "INFO:tensorflow:Finished evaluation at 2019-04-29-07:46:46\n",
      "INFO:tensorflow:Saving dict for global step 475: accuracy = 0.5634, global_step = 475, loss = 0.6916066\n",
      "INFO:tensorflow:Saving 'checkpoint_path' summary for global step 475: /tmp/sentimentanalysis\\model.ckpt-475\n",
      "{'accuracy': 0.5634, 'loss': 0.6916066, 'global_step': 475}\n"
     ]
    }
   ],
   "source": [
    " eval_input_fn = tf.estimator.inputs.numpy_input_fn(\n",
    "    x={\"x\": testdata},\n",
    "    y=testlabel,\n",
    "    num_epochs=1,\n",
    "    shuffle=False)\n",
    "\n",
    "eval_results = analyzer.evaluate(input_fn=eval_input_fn)\n",
    "print(eval_results)\n",
    "#SEND THE PICTURE OF WHATEVER COMES BELOW THIS"
   ]
  },
  {
   "cell_type": "code",
   "execution_count": null,
   "metadata": {},
   "outputs": [],
   "source": []
  }
 ],
 "metadata": {
  "kernelspec": {
   "display_name": "Python 3.6 (tensorflow)",
   "language": "python",
   "name": "tensorflow"
  },
  "language_info": {
   "codemirror_mode": {
    "name": "ipython",
    "version": 3
   },
   "file_extension": ".py",
   "mimetype": "text/x-python",
   "name": "python",
   "nbconvert_exporter": "python",
   "pygments_lexer": "ipython3",
   "version": "3.6.8"
  }
 },
 "nbformat": 4,
 "nbformat_minor": 2
}
